{
 "cells": [
  {
   "cell_type": "markdown",
   "metadata": {},
   "source": [
    "# BigEarthNet GeoDataFrame Builder\n",
    "\n",
    "> A package to generate and extend BigEarthNet GeoDataFrame's."
   ]
  },
  {
   "cell_type": "markdown",
   "metadata": {},
   "source": [
    "This library provides a collection of functions to generate and extend GeoDataFrames for the [BigEarthNet](bigearth.net) dataset.\n",
    "\n",
    "`bigearthnet_gdf_builder` tries to accomplish two goals:\n",
    "\n",
    "1. Easily generate [geopandas](https://geopandas.org/en/stable/) [GeoDataFrame](https://geopandas.org/en/stable/getting_started/introduction.html) by passing a BigEarthNet archive directory.\n",
    "   - Allow for easy top-level statistical analysis of the data in a familiar _pandas_-style\n",
    "   - Provide functions to enrich GeoDataFrames with often required BigEarthNet metadata (like the season or country of the patch)\n",
    "2. Simplify the building procedure by providing a command-line interface with reproducible results"
   ]
  },
  {
   "cell_type": "markdown",
   "metadata": {},
   "source": [
    "## Installation\n",
    "<!-- I strongly recommend to use [mamba](https://github.com/mamba-org/mamba) or `conda` with [miniforge](https://github.com/conda-forge/miniforge) to install the package with:\n",
    "- `mamba/conda install bigearthnet-common -c conda-forge`\n",
    "\n",
    "As the `bigearthnet_common` tool is built on top of `geopandas` the same restrictions apply.\n",
    "For more details please review the [geopandas installation documentation](https://geopandas.org/en/stable/getting_started/install.html).\n",
    "\n",
    "The package is also available via PyPI and could be installed with:\n",
    "- `pip install bigearthnet_common` (not recommended) -->\n",
    "\n",
    "## TL;DR\n",
    "The most relevant functions are exposed as CLI entry points.\n",
    "\n",
    "To build the tabular data, use:\n",
    "- `ben_gdf_builder --help` or\n",
    "- `python -m bigearthnet_gdf_builder.builder --help`\n",
    "\n",
    "\n",
    "## Deep Learning\n",
    "\n",
    "One of the primary purposes of the dataset is to allow deep learning researchers and practitioners to train their models on multi-spectral satellite data.\n",
    "In that regard, there is a general recommendation to drop patches that are covered by seasonal snow or clouds.\n",
    "Also, the novel 19-class nomenclature should be preferred over the original 43-class nomenclature.\n",
    "As a result of these recommendations, some patches have to be _excluded_ from the original raw BigEarthNet dataset that is provided at [BigEarthNet](bigearth.net).\n",
    "\n",
    "To simplify the procedure of pre-converting the JSON metadata files, the library provides a single command that will generate a recommended GeoDataFrame with extra metadata (country/season data of each patch) while dropping all patches that are not recommended for deep learning research.\n",
    "Functions for both archives, BEN-S1 and BEN-S2, are provided.\n",
    "\n",
    "To generate such a GeoDataFrame and store it as an `parquet` file, use:\n",
    "\n",
    "- `ben_gdf_builder build-recommended-s2-parquet` (available after installing package) or\n",
    "- `python -m bigearthnet_gdf_builder.builder build-recommended-s2-parquet`\n",
    "- `ben_gdf_builder build-recommended-s1-parquet` (available after installing package) or\n",
    "- `python -m bigearthnet_gdf_builder.builder build-recommended-s1-parquet`\n",
    "\n",
    "If you want to read the raw JSON files and convert those to a GeoDataFrame file without dropping any patches or adding any metadata, use:\n",
    "\n",
    "- `ben_gdf_builder build-raw-ben-s2-parquet` (available after installing package) or\n",
    "- `python -m bigearthnet_gdf_builder.builder build-raw-ben-s2-parquet`\n",
    "- `ben_gdf_builder build-raw-ben-s1-parquet` (available after installing package) or\n",
    "- `python -m bigearthnet_gdf_builder.builder build-raw-ben-s1-parquet`"
   ]
  },
  {
   "cell_type": "markdown",
   "metadata": {},
   "source": [
    "## Relation to bigearthnet_common\n",
    "\n",
    "There exists a _logical, circular_ dependency between [bigearthnet_common](https://github.com/kai-tub/bigearthnet_common) and this project.\n",
    "`bigearthnet_gdf_builder` uses functions from `bigearthnet_common` to safely read the BigEarthNet JSON metadata files from the Sentine-1/2 archives.\n",
    "\n",
    "The resulting `raw` GeoDataFrame is further processed to the `extended` representation with extra metadata (season of the acquisition date, country, 19-class nomenclature, etc.).\n",
    "\n",
    "To easily provide a dependency free interaction with BigEarthnet, mainly to quickly create subsets, some of these results are distributed _in_ the `bigearthnet_common` package.\n",
    "For example, this allows a user to quickly retrieve the corresponding S2 patch of an S1 input patch without needing to access the JSON file or the result of the `bigearthnet_gdf_builder`.\n",
    "\n",
    "The correctness of some `bigearthnet_common` functions depend on the correctness of this project!\n",
    "As such, `bigearthnet_gdf_builder` should never use functions from `bigearthnet_common` that make use of the distributed data."
   ]
  },
  {
   "cell_type": "markdown",
   "metadata": {},
   "source": [
    "## Contributing\n",
    "\n",
    "Contributions are always welcome!\n",
    "\n",
    "Please look at the corresponding `ipynb` notebook from the `nbs` folder to review the source code.\n",
    "These notebooks include extensive documentation, visualizations, and tests.\n",
    "The automatically generated Python files are available in the `bigearthnet_gdf_builder` module.\n",
    "\n",
    "More information is available in the [contributing guidelines](https://github.com/kai-tub/bigearthnet_common/blob/main/.github/CONTRIBUTING.md) document."
   ]
  },
  {
   "cell_type": "code",
   "execution_count": null,
   "metadata": {},
   "outputs": [
    {
     "name": "stdout",
     "output_type": "stream",
     "text": [
      "Converted 00_builder.ipynb.\n",
      "Converted index.ipynb.\n",
      "converting: /home/kai/git/bigearthnet_gdf_builder/nbs/index.ipynb\n",
      "converting /home/kai/git/bigearthnet_gdf_builder/nbs/index.ipynb to README.md\n"
     ]
    }
   ],
   "source": [
    "# hide\n",
    "from nbdev.cli import nbdev_build_docs\n",
    "from nbdev.export import notebook2script\n",
    "\n",
    "notebook2script()\n",
    "nbdev_build_docs()"
   ]
  },
  {
   "cell_type": "code",
   "execution_count": null,
   "metadata": {},
   "outputs": [],
   "source": []
  }
 ],
 "metadata": {
  "kernelspec": {
   "display_name": "Python 3 (ipykernel)",
   "language": "python",
   "name": "python3"
  }
 },
 "nbformat": 4,
 "nbformat_minor": 4
}
